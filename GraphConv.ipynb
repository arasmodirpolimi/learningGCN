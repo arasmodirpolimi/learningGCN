{
 "cells": [
  {
   "cell_type": "code",
   "execution_count": 1,
   "id": "3a210683",
   "metadata": {},
   "outputs": [],
   "source": [
    "import dgl"
   ]
  },
  {
   "cell_type": "code",
   "execution_count": 2,
   "id": "b428a4e0",
   "metadata": {},
   "outputs": [
    {
     "name": "stdout",
     "output_type": "stream",
     "text": [
      "  NumNodes: 3327\n",
      "  NumEdges: 9228\n",
      "  NumFeats: 3703\n",
      "  NumClasses: 6\n",
      "  NumTrainingSamples: 120\n",
      "  NumValidationSamples: 500\n",
      "  NumTestSamples: 1000\n",
      "Done loading data from cached files.\n"
     ]
    }
   ],
   "source": [
    "dataset = dgl.data.CiteseerGraphDataset()\n",
    "graph = dataset[0]"
   ]
  },
  {
   "cell_type": "code",
   "execution_count": 3,
   "id": "7664b174",
   "metadata": {},
   "outputs": [],
   "source": [
    "features = graph.ndata['feat']\n",
    "labels = graph.ndata['label']\n"
   ]
  },
  {
   "cell_type": "code",
   "execution_count": 4,
   "id": "571bea39",
   "metadata": {},
   "outputs": [],
   "source": [
    "train_mask = graph.ndata['train_mask']\n",
    "test_mask = graph.ndata['test_mask']"
   ]
  },
  {
   "cell_type": "code",
   "execution_count": 5,
   "id": "de6e50d9",
   "metadata": {},
   "outputs": [
    {
     "data": {
      "text/plain": [
       "tensor([ True,  True,  True,  ..., False, False, False])"
      ]
     },
     "execution_count": 5,
     "metadata": {},
     "output_type": "execute_result"
    }
   ],
   "source": [
    "train_mask"
   ]
  },
  {
   "cell_type": "code",
   "execution_count": 6,
   "id": "d4fde0b6",
   "metadata": {},
   "outputs": [
    {
     "data": {
      "text/plain": [
       "tensor([3, 1, 5, 5, 3, 1, 3, 0, 3, 5, 2, 4, 2, 1, 2, 3, 2, 4, 4, 0, 1, 5, 5, 3,\n",
       "        5, 2, 5, 2, 4, 2, 2, 2, 4, 5, 2, 3, 4, 5, 3, 3, 2, 1, 2, 1, 5, 1, 1, 4,\n",
       "        2, 3, 3, 2, 5, 2, 5, 1, 4, 1, 4, 2, 2, 3, 4, 5, 5, 1, 3, 3, 4, 2, 4, 1,\n",
       "        1, 5, 0, 2, 0, 3, 5, 2, 4, 1, 1, 4, 4, 0, 4, 4, 5, 3, 5, 5, 4, 5, 3, 1,\n",
       "        4, 4, 3, 1, 3, 0, 1, 1, 1, 3, 0, 0, 0, 0, 0, 0, 0, 0, 0, 0, 0, 0, 0, 0])"
      ]
     },
     "execution_count": 6,
     "metadata": {},
     "output_type": "execute_result"
    }
   ],
   "source": [
    "labels[train_mask]"
   ]
  },
  {
   "cell_type": "code",
   "execution_count": 7,
   "id": "84964437",
   "metadata": {},
   "outputs": [],
   "source": [
    "graph = dgl.remove_self_loop(graph)\n",
    "graph = dgl.add_self_loop(graph)"
   ]
  },
  {
   "cell_type": "code",
   "execution_count": 8,
   "id": "f7f8837e",
   "metadata": {},
   "outputs": [],
   "source": [
    "feat_in = features.shape[-1]\n",
    "num_class = dataset.num_classes"
   ]
  },
  {
   "cell_type": "code",
   "execution_count": 9,
   "id": "c2b14445",
   "metadata": {},
   "outputs": [],
   "source": [
    "from dgl.nn import GraphConv\n",
    "import torch.nn as nn\n",
    "import torch.nn.functional as func"
   ]
  },
  {
   "cell_type": "markdown",
   "id": "dda65b64",
   "metadata": {},
   "source": [
    "Explanation of GraphConv\n",
    "GraphConv(\n",
    "    in_feats,\n",
    "    out_feats,\n",
    "    norm='both',\n",
    "    weight=True,\n",
    "    bias=True,\n",
    "    activation=None,\n",
    "    allow_zero_in_degree=False,\n",
    ")"
   ]
  },
  {
   "cell_type": "code",
   "execution_count": 10,
   "id": "d51fcd9a",
   "metadata": {},
   "outputs": [],
   "source": [
    "class Net(nn.Module):\n",
    "    def __init__(self):\n",
    "        super(Net, self).__init__()\n",
    "        self.layer1 = GraphConv(feat_in, 64)\n",
    "        self.layer2 = GraphConv(64, num_class)\n",
    "        self.layer2 = GraphConv(64, num_class)\n",
    "        self.dropout = nn.Dropout(0.5)\n",
    "        \n",
    "    def forward(self, g, features):\n",
    "        h1 = func.relu(self.layer1(g, features))\n",
    "        h1 = self.dropout(h1)\n",
    "        h2 = self.layer2(g, h1)\n",
    "        return h2\n",
    "    \n",
    "\n",
    "net = Net()"
   ]
  },
  {
   "cell_type": "code",
   "execution_count": 11,
   "id": "ae501f1e",
   "metadata": {},
   "outputs": [],
   "source": [
    "import torch\n",
    "import matplotlib.pyplot as plt"
   ]
  },
  {
   "cell_type": "code",
   "execution_count": 12,
   "id": "4094ef9b",
   "metadata": {},
   "outputs": [],
   "source": [
    "def evaluate(model, g, features, labels, mask):\n",
    "    model.eval()\n",
    "    with torch.no_grad():\n",
    "        pred = model(g, features)\n",
    "        pred = pred[mask]\n",
    "        labels = labels[mask]\n",
    "        \n",
    "        _, indices = torch.max(pred, dim=1)\n",
    "        correct = torch.sum(indices == labels)\n",
    "        \n",
    "        return correct.item()*1.0/len(labels)"
   ]
  },
  {
   "cell_type": "code",
   "execution_count": 13,
   "id": "186cab8e",
   "metadata": {},
   "outputs": [],
   "source": [
    "optimizer = torch.optim.Adam(net.parameters(), lr = 1e-2, weight_decay = 5e-4, eps = 1e-8, amsgrad = True)\n",
    "lost_list = []\n",
    "acc_list = []\n",
    "all_pred = []\n",
    "\n",
    "for each in range(200):\n",
    "    net.train()\n",
    "    pred = net(graph, features)\n",
    "    logp = func.log_softmax(pred, 1)\n",
    "    all_pred.append(logp)\n",
    "    \n",
    "    loss = func.cross_entropy(logp[train_mask], labels[train_mask])\n",
    "    optimizer.zero_grad() \n",
    "    loss.backward()\n",
    "    optimizer.step()\n",
    "    \n",
    "    acc = evaluate(net, graph, features, labels, test_mask)\n",
    "    acc_list.append(acc)\n",
    "    lost_list.append(loss.item())"
   ]
  },
  {
   "cell_type": "code",
   "execution_count": 14,
   "id": "3898d24f",
   "metadata": {},
   "outputs": [
    {
     "data": {
      "text/plain": [
       "Text(0, 0.5, 'Acc')"
      ]
     },
     "execution_count": 14,
     "metadata": {},
     "output_type": "execute_result"
    },
    {
     "data": {
      "image/png": "[encoded data removed]",
      "text/plain": [
       "<Figure size 640x480 with 1 Axes>"
      ]
     },
     "metadata": {},
     "output_type": "display_data"
    }
   ],
   "source": [
    "plt.plot(acc_list)\n",
    "plt.xlabel('Epoch')\n",
    "plt.ylabel('Acc')\n"
   ]
  },
  {
   "cell_type": "code",
   "execution_count": 15,
   "id": "665ad565",
   "metadata": {},
   "outputs": [
    {
     "data": {
      "text/plain": [
       "0.721"
      ]
     },
     "execution_count": 15,
     "metadata": {},
     "output_type": "execute_result"
    }
   ],
   "source": [
    "max(acc_list)"
   ]
  },
  {
   "cell_type": "code",
   "execution_count": 16,
   "id": "d2586ee6",
   "metadata": {},
   "outputs": [
    {
     "data": {
      "text/plain": [
       "0.704"
      ]
     },
     "execution_count": 16,
     "metadata": {},
     "output_type": "execute_result"
    }
   ],
   "source": [
    "acc_list[-1]"
   ]
  },
  {
   "cell_type": "code",
   "execution_count": null,
   "id": "0351e886",
   "metadata": {},
   "outputs": [],
   "source": []
  }
 ],
 "metadata": {
  "kernelspec": {
   "display_name": "Python 3 (ipykernel)",
   "language": "python",
   "name": "python3"
  },
  "language_info": {
   "codemirror_mode": {
    "name": "ipython",
    "version": 3
   },
   "file_extension": ".py",
   "mimetype": "text/x-python",
   "name": "python",
   "nbconvert_exporter": "python",
   "pygments_lexer": "ipython3",
   "version": "3.11.3"
  }
 },
 "nbformat": 4,
 "nbformat_minor": 5
}
